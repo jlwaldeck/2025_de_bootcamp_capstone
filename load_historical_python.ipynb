{
 "cells": [
  {
   "cell_type": "code",
   "execution_count": 0,
   "metadata": {
    "application/vnd.databricks.v1+cell": {
     "cellMetadata": {},
     "inputWidgets": {},
     "nuid": "c3f45ae5-3217-417d-af11-fda8311b0915",
     "showTitle": false,
     "tableResultSettingsMap": {},
     "title": ""
    }
   },
   "outputs": [],
   "source": [
    "@dlt.table(\n",
    "  name=\"historical_hoops_python\"\n",
    ")\n",
    "\n",
    "@dlt.expect_or_drop(\"non_null_PlayerName\", \"pp IS NOT NULL\")\n",
    "@dlt.expect_or_drop(\"non_null_TeamName\", \"tt IS NOT NULL\")\n",
    "@dlt.expect_or_fail(\"non_null_opponent\", \"opponent IS NOT NULL\")\n",
    "\n",
    "def load_csv_data():\n",
    "    return (spark.read.format(\"csv\")\n",
    "            .option(\"header\", \"true\")\n",
    "            .option(\"inferSchema\", \"true\")\n",
    "            .load(\"/Volumes/tabular/dataexpert/jw_capstone/clean_csv/\"))\n",
    "  "
   ]
  }
 ],
 "metadata": {
  "application/vnd.databricks.v1+notebook": {
   "computePreferences": null,
   "dashboards": [],
   "environmentMetadata": {
    "base_environment": "",
    "environment_version": "2"
   },
   "language": "python",
   "notebookMetadata": {
    "pythonIndentUnit": 4
   },
   "notebookName": "load_historical_python",
   "widgets": {}
  },
  "language_info": {
   "name": "python"
  }
 },
 "nbformat": 4,
 "nbformat_minor": 0
}
