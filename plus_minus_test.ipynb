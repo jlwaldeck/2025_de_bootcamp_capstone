{
 "cells": [
  {
   "cell_type": "code",
   "execution_count": 0,
   "metadata": {
    "application/vnd.databricks.v1+cell": {
     "cellMetadata": {
      "byteLimit": 2048000,
      "rowLimit": 10000
     },
     "inputWidgets": {},
     "nuid": "cb478c4e-e628-49c5-8947-c785e2f6b172",
     "showTitle": false,
     "tableResultSettingsMap": {},
     "title": ""
    }
   },
   "outputs": [],
   "source": [
    "from pyspark.sql.functions import col, lag, sum as _sum, when, coalesce, first, max, concat, lit\n",
    "from pyspark.sql.window import Window\n",
    "import dlt\n",
    "\n",
    "player_games = spark.read.table(\"tabular.dataexpert.jw_raw_player_games\")\n",
    "games = spark.read.table(\"tabular.dataexpert.jw_raw_games\")\n",
    "\n",
    "# Filter to columns of interest for game\n",
    "columns_to_keep = [\"GameID\", \"Status\", \"TimeRemainingMinutes\", \"AwayTeamID\", \"AwayTeam\", \"HomeTeam\", \"HomeTeamID\", \"AwayTeamScore\", \"HomeTeamScore\", \"timestamp\"]\n",
    "games = games.select([col(column) for column in columns_to_keep])\n",
    "\n",
    "# Filter to columns of interest for player_game\n",
    "columns_to_keep = [\"GameID\", \"TeamID\", \"PlayerID\", \"Team\", \"Name\", \"Minutes\", \"timestamp\"]\n",
    "player_games = player_games.select([col(column) for column in columns_to_keep])\n",
    "\n",
    "# Calculate the change in scores for each team between updates\n",
    "games_window_spec = Window.partitionBy(\"GameID\").orderBy(\"timestamp\")\n",
    "games = games.withColumn(\"PrevHomeTeamScore\", lag(\"HomeTeamScore\").over(games_window_spec))\n",
    "games = games.withColumn(\"PrevAwayTeamScore\", lag(\"AwayTeamScore\").over(games_window_spec))\n",
    "games = games.withColumn(\"HomeTeamScoreChange\", col(\"HomeTeamScore\") - col(\"PrevHomeTeamScore\"))\n",
    "games = games.withColumn(\"AwayTeamScoreChange\", col(\"AwayTeamScore\") - col(\"PrevAwayTeamScore\"))\n",
    "\n",
    "# Calculate the change in minutes for each player between updates\n",
    "player_games_window_spec = Window.partitionBy(\"GameID\", \"PlayerID\").orderBy(\"timestamp\")\n",
    "player_games = player_games.withColumn(\"PrevMinutes\", lag(\"Minutes\").over(player_games_window_spec))\n",
    "player_games = player_games.withColumn(\"MinutesChange\", col(\"Minutes\") - col(\"PrevMinutes\"))\n",
    "\n",
    "# Eliminate rows with negative minute changes (probably a stat correction...)\n",
    "player_games = player_games.filter(player_games[\"MinutesChange\"] >= 0)\n",
    "\n",
    "# Join the tables to calculate the plus-minus metric\n",
    "join_condition = [\n",
    "    games[\"GameID\"] == player_games[\"GameID\"],\n",
    "    games[\"timestamp\"] == player_games[\"timestamp\"]\n",
    "    ]\n",
    "plus_minus = games.join(player_games, join_condition, \"inner\")\n",
    "\n",
    "# Determine row plus_minus based on player's TeamID\n",
    "plus_minus = plus_minus.withColumn(\n",
    "    \"PlusMinusChange\",\n",
    "    when(\n",
    "        col(\"TeamID\") == col(\"HomeTeamID\"),\n",
    "        col(\"HomeTeamScoreChange\") - col(\"AwayTeamScoreChange\")\n",
    "    ).otherwise(\n",
    "        col(\"AwayTeamScoreChange\") - col(\"HomeTeamScoreChange\")\n",
    "    )\n",
    ")\n",
    "\n",
    "# Filter to credit/debit a player only if they were in the game between updates\n",
    "plus_minus = plus_minus.filter(plus_minus[\"MinutesChange\"] > 0)\n",
    "\n",
    "# Group by PlayerID and GameID, and calculate the sum of PlusMinusChange\n",
    "grouped_df = plus_minus.groupBy(\"PlayerID\", games.GameID).agg(\n",
    "    _sum(\"PlusMinusChange\").alias(\"TotalPlusMinusChange\"), \n",
    "    first(\"TeamID\").alias(\"TeamID\"), \n",
    "    first(\"Team\").alias(\"Team\"), \n",
    "    first(\"Name\").alias(\"Player_Name\"), \n",
    "    first(\"HomeTeam\").alias(\"HomeTeam\"),\n",
    "    first(\"AwayTeam\").alias(\"AwayTeam\"),\n",
    "    max(\"Minutes\").alias(\"Total_Minutes\")\n",
    ")\n",
    "\n",
    "# Add the HomeTeam_AwayTeam column\n",
    "grouped_df = grouped_df.withColumn(\n",
    "    \"Matchup\",\n",
    "    concat(col(\"HomeTeam\"), lit(\"_vs._\"), col(\"AwayTeam\"))\n",
    ")"
   ]
  },
  {
   "cell_type": "code",
   "execution_count": 0,
   "metadata": {
    "application/vnd.databricks.v1+cell": {
     "cellMetadata": {},
     "inputWidgets": {},
     "nuid": "f1100a5c-06ac-4365-9d1f-b41240aee758",
     "showTitle": false,
     "tableResultSettingsMap": {},
     "title": ""
    }
   },
   "outputs": [],
   "source": [
    "# Define the Delta Live Table\n",
    "@dlt.table(\n",
    "    name=\"jw_plus_minus\"\n",
    ")\n",
    "\n",
    "@dlt.expect(\"non_null_PlayerID\", \"PlayerID IS NOT NULL\")\n",
    "@dlt.expect(\"non_null_GameID\", \"GameID IS NOT NULL\")\n",
    "@dlt.expect(\"valid_Minutes\", \"Total_Minutes >= 0\")\n",
    "@dlt.expect(\"valid_PlusMinusChange\", \"TotalPlusMinusChange IS NOT NULL\")\n",
    "\n",
    "def update_table():\n",
    "    return grouped_df"
   ]
  }
 ],
 "metadata": {
  "application/vnd.databricks.v1+notebook": {
   "computePreferences": null,
   "dashboards": [],
   "environmentMetadata": {
    "base_environment": "",
    "environment_version": "2"
   },
   "language": "python",
   "notebookMetadata": {
    "pythonIndentUnit": 4
   },
   "notebookName": "plus_minus_test",
   "widgets": {}
  },
  "language_info": {
   "name": "python"
  }
 },
 "nbformat": 4,
 "nbformat_minor": 0
}
