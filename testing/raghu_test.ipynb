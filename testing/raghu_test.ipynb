{
 "cells": [
  {
   "cell_type": "code",
   "execution_count": 0,
   "metadata": {
    "application/vnd.databricks.v1+cell": {
     "cellMetadata": {
      "byteLimit": 2048000,
      "rowLimit": 10000
     },
     "inputWidgets": {},
     "nuid": "946d4b81-770f-43aa-af7f-ba8d79a09cfe",
     "showTitle": false,
     "tableResultSettingsMap": {},
     "title": ""
    }
   },
   "outputs": [],
   "source": [
    "%python\n",
    "%pip install databricks-dlt\n",
    "# %restart_python"
   ]
  },
  {
   "cell_type": "code",
   "execution_count": 0,
   "metadata": {
    "application/vnd.databricks.v1+cell": {
     "cellMetadata": {},
     "inputWidgets": {},
     "nuid": "57c47c69-29b9-4273-9f5e-fc7abd9fc5b8",
     "showTitle": false,
     "tableResultSettingsMap": {},
     "title": ""
    }
   },
   "outputs": [],
   "source": [
    "from pyspark.sql.types import StructType, StructField, IntegerType, StringType, BooleanType, ArrayType, DoubleType, LongType\n",
    "\n",
    "stadium_schema = StructType([\n",
    "    StructField(\"StadiumID\", IntegerType(), True),\n",
    "    StructField(\"Active\", BooleanType(), True),\n",
    "    StructField(\"Name\", StringType(), True),\n",
    "    StructField(\"Address\", StringType(), True),\n",
    "    StructField(\"City\", StringType(), True),\n",
    "    StructField(\"State\", StringType(), True),\n",
    "    StructField(\"Zip\", StringType(), True),\n",
    "    StructField(\"Country\", StringType(), True),\n",
    "    StructField(\"Capacity\", IntegerType(), True),\n",
    "    StructField(\"GeoLat\", DoubleType(), True),\n",
    "    StructField(\"GeoLong\", DoubleType(), True)\n",
    "])\n",
    "\n",
    "period_schema = StructType([\n",
    "    StructField(\"PeriodID\", IntegerType(), True),\n",
    "    StructField(\"GameID\", IntegerType(), True),\n",
    "    StructField(\"Number\", IntegerType(), True),\n",
    "    StructField(\"Name\", StringType(), True),\n",
    "    StructField(\"Type\", StringType(), True),\n",
    "    StructField(\"AwayScore\", IntegerType(), True),\n",
    "    StructField(\"HomeScore\", IntegerType(), True)\n",
    "])\n",
    "\n",
    "player_game_schema = StructType([\n",
    "    StructField(\"StatID\", IntegerType(), True),\n",
    "    StructField(\"TeamID\", IntegerType(), True),\n",
    "    StructField(\"FantasyPointsYahoo\", DoubleType(), True)\n",
    "])\n",
    "\n",
    "team_game_schema = StructType([\n",
    "    StructField(\"StatID\", IntegerType(), True),\n",
    "    StructField(\"TeamID\", IntegerType(), True),\n",
    "    StructField(\"SeasonType\", IntegerType(), True),\n",
    "    StructField(\"Season\", IntegerType(), True),\n",
    "    StructField(\"Name\", StringType(), True),\n",
    "    StructField(\"Team\", StringType(), True),\n",
    "    StructField(\"Wins\", IntegerType(), True),\n",
    "    StructField(\"Losses\", IntegerType(), True),\n",
    "    StructField(\"ConferenceWins\", IntegerType(), True),\n",
    "    StructField(\"ConferenceLosses\", IntegerType(), True),\n",
    "    StructField(\"GlobalTeamID\", LongType(), True),\n",
    "    StructField(\"Possessions\", IntegerType(), True),\n",
    "    StructField(\"FantasyPointsYahoo\", DoubleType(), True),\n",
    "    StructField(\"GameID\", IntegerType(), True),\n",
    "    StructField(\"OpponentID\", IntegerType(), True)\n",
    "])\n",
    "\n",
    "game_schema = StructType([\n",
    "    StructField(\"GameID\", IntegerType(), True),\n",
    "    StructField(\"Season\", IntegerType(), True),\n",
    "    StructField(\"SeasonType\", IntegerType(), True),\n",
    "    StructField(\"Status\", StringType(), True),\n",
    "    StructField(\"Day\", StringType(), True),\n",
    "    StructField(\"DateTime\", StringType(), True),\n",
    "    StructField(\"Stadium\", stadium_schema, True),\n",
    "    StructField(\"Periods\", ArrayType(period_schema), True)\n",
    "])\n",
    "\n",
    "root_schema = StructType([\n",
    "    StructField(\"Game\", game_schema, True),\n",
    "    StructField(\"Periods\", ArrayType(period_schema), True),\n",
    "    StructField(\"PlayerGames\", ArrayType(player_game_schema), True),\n",
    "    StructField(\"TeamGames\", ArrayType(team_game_schema), True)\n",
    "])"
   ]
  },
  {
   "cell_type": "code",
   "execution_count": 0,
   "metadata": {
    "application/vnd.databricks.v1+cell": {
     "cellMetadata": {},
     "inputWidgets": {},
     "nuid": "cba206ab-7964-43ac-a5ff-a8e203473c42",
     "showTitle": false,
     "tableResultSettingsMap": {},
     "title": ""
    }
   },
   "outputs": [],
   "source": [
    "import requests\n",
    "import json\n",
    "import dlt\n",
    "# from pyspark.sql.functions import explode\n",
    "\n",
    "\n",
    "# def fetch_data_from_api(api_url, api_key):\n",
    "#     headers = {\n",
    "#         'Authorization': f'Bearer {api_key}',\n",
    "#         'Content-Type': 'application/json'\n",
    "#     }\n",
    "#     response = requests.get(api_url, headers=headers)\n",
    "#     response.raise_for_status()  # Raise an error for bad status codes\n",
    "#     return response.json()\n",
    "\n",
    "# api_url = \"https://replay.sportsdata.io/api/v3/cbb/stats/json/boxscoresdelta/2023-12-02/all\"\n",
    "# api_key = \"bafecc01eaaf419a984cd7ec2b602594\"\n",
    "# json_data = fetch_data_from_api(api_url, api_key)\n",
    "\n",
    "# Convert the JSON data to a DataFrame\n",
    "# df = spark.read.json(spark.sparkContext.parallelize([json_data]))\n",
    "# Define the Delta table\n",
    "@dlt.table(\n",
    "    name=\"jw_raw_stadiums\",\n",
    "    comment=\"Table containing JSON data loaded from a URL\"\n",
    ")\n",
    "def load_json_data():\n",
    "    return spark.createDataFrame([], root_schema)"
   ]
  },
  {
   "cell_type": "code",
   "execution_count": 0,
   "metadata": {
    "application/vnd.databricks.v1+cell": {
     "cellMetadata": {
      "byteLimit": 2048000,
      "rowLimit": 10000
     },
     "inputWidgets": {},
     "nuid": "ca472419-0839-4e2b-8374-a5a741ffd16b",
     "showTitle": false,
     "tableResultSettingsMap": {},
     "title": ""
    }
   },
   "outputs": [],
   "source": [
    "# import dlt\n",
    "# from pyspark.sql.functions import explode\n",
    "# import json\n",
    "\n",
    "# #dlt.enable_local_execution()\n",
    "\n",
    "# @dlt.table(\n",
    "#     name=\"ry_raw_games\",\n",
    "#     comment=\"The raw data ingested from the source\",\n",
    "#     table_properties={\n",
    "#         \"quality\": \"bronze\"\n",
    "#     }\n",
    "# )\n",
    "# def ry_raw_games():\n",
    "#     api_url = \"https://replay.sportsdata.io/api/v3/cbb/stats/json/boxscoresdelta/2023-12-02/all\"\n",
    "#     api_key = \"bafecc01eaaf419a984cd7ec2b602594\"\n",
    "#     data = fetch_data_from_api(api_url, api_key)\n",
    "#     df = spark.read.json(spark.sparkContext.parallelize([json_data]))\n",
    "#     return df"
   ]
  },
  {
   "cell_type": "code",
   "execution_count": 0,
   "metadata": {
    "application/vnd.databricks.v1+cell": {
     "cellMetadata": {
      "byteLimit": 2048000,
      "rowLimit": 10000
     },
     "inputWidgets": {},
     "nuid": "c7db5dd3-f674-48bf-abef-292bb2c82744",
     "showTitle": false,
     "tableResultSettingsMap": {},
     "title": ""
    }
   },
   "outputs": [],
   "source": [
    "#dlt.enable_local_execution()\n",
    "#\n",
    "#raw_games_df = dlt.read(\"ry_raw_games\")\n",
    "#display(raw_games_df)"
   ]
  },
  {
   "cell_type": "code",
   "execution_count": 0,
   "metadata": {
    "application/vnd.databricks.v1+cell": {
     "cellMetadata": {},
     "inputWidgets": {},
     "nuid": "f9c3471f-c76a-4b72-80a8-01830b50a1a1",
     "showTitle": false,
     "tableResultSettingsMap": {},
     "title": ""
    }
   },
   "outputs": [],
   "source": [
    "# @dlt.table\n",
    "# def ry_games():\n",
    "#     raw_df = dlt.read(\"raw_games\")\n",
    "#     return raw_df.select(\"Game.*\")\n",
    "\n",
    "# @dlt.table\n",
    "# def ry_periods():\n",
    "#     raw_df = dlt.read(\"raw_games\")\n",
    "#     return raw_df.select(\"Game.GameID as GameID\", \"explode(Game.Periods) as Period\").select(\"GameID\", \"Period.*\")\n",
    "\n",
    "# @dlt.table\n",
    "# def ry_player_games():\n",
    "#     raw_df = dlt.read(\"raw_games\")\n",
    "#     return raw_df.select(\"Game.GameID as GameID\", \"explode(PlayerGames) as PlayerGame\").select(\"GameID\", \"PlayerGame.*\")\n",
    "\n",
    "# @dlt.table\n",
    "# def ry_team_games():\n",
    "#     raw_df = dlt.read(\"raw_games\")\n",
    "#     return raw_df.select(\"Game.GameID as GameID\", \"explode(TeamGames) as TeamGame\").select(\"GameID\", \"TeamGame.*\")"
   ]
  }
 ],
 "metadata": {
  "application/vnd.databricks.v1+notebook": {
   "computePreferences": null,
   "dashboards": [],
   "environmentMetadata": {
    "base_environment": "",
    "environment_version": "2"
   },
   "language": "python",
   "notebookMetadata": {
    "pythonIndentUnit": 4
   },
   "notebookName": "raghu_test",
   "widgets": {}
  },
  "language_info": {
   "name": "python"
  }
 },
 "nbformat": 4,
 "nbformat_minor": 0
}
