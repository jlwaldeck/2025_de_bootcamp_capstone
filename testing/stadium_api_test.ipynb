{
 "cells": [
  {
   "cell_type": "code",
   "execution_count": 0,
   "metadata": {
    "application/vnd.databricks.v1+cell": {
     "cellMetadata": {
      "byteLimit": 2048000,
      "rowLimit": 10000
     },
     "inputWidgets": {},
     "nuid": "946d4b81-770f-43aa-af7f-ba8d79a09cfe",
     "showTitle": false,
     "tableResultSettingsMap": {},
     "title": ""
    }
   },
   "outputs": [],
   "source": [
    "# %python\n",
    "# %pip install databricks-dlt\n",
    "# %restart_python"
   ]
  },
  {
   "cell_type": "code",
   "execution_count": 0,
   "metadata": {
    "application/vnd.databricks.v1+cell": {
     "cellMetadata": {
      "byteLimit": 2048000,
      "rowLimit": 10000
     },
     "inputWidgets": {},
     "nuid": "2015b30a-5543-44ae-8163-781596f269b1",
     "showTitle": false,
     "tableResultSettingsMap": {},
     "title": ""
    }
   },
   "outputs": [],
   "source": [
    "import requests\n",
    "import pandas as pd\n",
    "import dlt\n",
    "from pyspark.sql import SparkSession\n",
    "from pyspark.sql.types import StructType, StructField, IntegerType, StringType, BooleanType, DoubleType\n",
    "\n",
    "# Define the schema\n",
    "stadium_schema = StructType([\n",
    "    StructField(\"StadiumID\", IntegerType(), True),\n",
    "    StructField(\"Active\", BooleanType(), True),\n",
    "    StructField(\"Name\", StringType(), True),\n",
    "    StructField(\"Address\", StringType(), True),\n",
    "    StructField(\"City\", StringType(), True),\n",
    "    StructField(\"State\", StringType(), True),\n",
    "    StructField(\"Zip\", StringType(), True),\n",
    "    StructField(\"Country\", StringType(), True),\n",
    "    StructField(\"Capacity\", IntegerType(), True),\n",
    "    StructField(\"GeoLat\", DoubleType(), True),\n",
    "    StructField(\"GeoLong\", DoubleType(), True)\n",
    "])\n",
    "\n",
    "# Fetch data from the API\n",
    "def fetch_data_from_api(api_url):\n",
    "    response = requests.get(api_url)\n",
    "    response.raise_for_status()  # Raise an error for bad status codes\n",
    "    return response.json()\n",
    "\n",
    "api_url = \"https://replay.sportsdata.io/api/v3/cbb/scores/json/stadiums?key=bafecc01eaaf419a984cd7ec2b602594\"\n",
    "json_data = fetch_data_from_api(api_url)\n",
    "\n",
    "# Convert the JSON data to a pandas DataFrame\n",
    "pdf = pd.DataFrame(json_data)\n",
    "\n",
    "# Ensure the data types match the schema and handle missing values\n",
    "pdf['StadiumID'] = pdf['StadiumID'].astype(int)\n",
    "pdf['Active'] = pdf['Active'].astype(bool)\n",
    "pdf['Name'] = pdf['Name'].astype(str)\n",
    "pdf['Address'] = pdf['Address'].astype(str)\n",
    "pdf['City'] = pdf['City'].astype(str)\n",
    "pdf['State'] = pdf['State'].astype(str)\n",
    "pdf['Zip'] = pdf['Zip'].astype(str)\n",
    "pdf['Country'] = pdf['Country'].astype(str)\n",
    "pdf['Capacity'] = pdf['Capacity'].fillna(0).astype(int)  # Fill NA with 0 and cast to int\n",
    "pdf['GeoLat'] = pdf['GeoLat'].astype(float)\n",
    "pdf['GeoLong'] = pdf['GeoLong'].astype(float)\n",
    "\n",
    "# Convert the pandas DataFrame to a Spark DataFrame\n",
    "spark = SparkSession.builder.getOrCreate()\n",
    "df = spark.createDataFrame(pdf, schema=stadium_schema)\n",
    "\n",
    "# Define the Delta table\n",
    "@dlt.table(\n",
    "    name=\"jw_raw_stadiums\",\n",
    "    comment=\"Table containing JSON data loaded from a URL\"\n",
    ")\n",
    "def load_json_data():\n",
    "    return df"
   ]
  }
 ],
 "metadata": {
  "application/vnd.databricks.v1+notebook": {
   "computePreferences": null,
   "dashboards": [],
   "environmentMetadata": {
    "base_environment": "",
    "environment_version": "2"
   },
   "language": "python",
   "notebookMetadata": {
    "pythonIndentUnit": 4
   },
   "notebookName": "stadium_api_test",
   "widgets": {}
  },
  "language_info": {
   "name": "python"
  }
 },
 "nbformat": 4,
 "nbformat_minor": 0
}
